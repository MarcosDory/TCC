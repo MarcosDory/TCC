{
  "nbformat": 4,
  "nbformat_minor": 0,
  "metadata": {
    "colab": {
      "provenance": []
    },
    "kernelspec": {
      "name": "python3",
      "display_name": "Python 3"
    },
    "language_info": {
      "name": "python"
    }
  },
  "cells": [
    {
      "cell_type": "markdown",
      "source": [
        "**Interpretação estatística:**\n",
        "\n",
        "O script a seguir tem a finalidade de criar funções que geram os seguintes resumos estatísticos:\n",
        "\n",
        "\n",
        "*   Quartil 25 %, 50%, 75%;\n",
        "*   Limites superiores e inferiores pelo método IQR;\n",
        "*   Z-scores de cada linha do rol de dados;\n",
        "*   Coeficiente de assimetria de Pearson;\n",
        "*   Média, desvio padrão e contagem de dados;\n",
        "*   Contagem de valores acima e abaixo dos limites para outliers;\n",
        "*   Porcentagem de valores acima e abaixo dos outliers.\n",
        "\n",
        "\n",
        "Criar gráficos com intuito de guiar o usuário na escolha de qual metodo estatístico  utilizar em sua limpeza de dados.\n",
        "\n",
        "\n",
        "*   QQ plot;\n",
        "*   Box plot;\n",
        "*   Histograma;\n",
        "*   Distribuição dos Z-scores;\n",
        "*   Box plot mensal para cada variável."
      ],
      "metadata": {
        "id": "bmlnEO7nx9m-"
      }
    },
    {
      "cell_type": "code",
      "source": [
        "from datetime import date, datetime\n",
        "import pandas as pd\n",
        "import seaborn as sns\n",
        "import matplotlib.pyplot as plt\n",
        "import scipy.stats as stats\n",
        "import numpy as np\n",
        "import openpyxl"
      ],
      "metadata": {
        "id": "FTVpm3xoQmLn"
      },
      "execution_count": 184,
      "outputs": []
    },
    {
      "cell_type": "code",
      "source": [
        "from google.colab import drive\n",
        "drive.mount('/content/drive')"
      ],
      "metadata": {
        "id": "UwFMpRptjNuX",
        "colab": {
          "base_uri": "https://localhost:8080/"
        },
        "outputId": "2b4195b8-9948-4d15-ca34-1d1668735377"
      },
      "execution_count": 185,
      "outputs": [
        {
          "output_type": "stream",
          "name": "stdout",
          "text": [
            "Drive already mounted at /content/drive; to attempt to forcibly remount, call drive.mount(\"/content/drive\", force_remount=True).\n"
          ]
        }
      ]
    },
    {
      "cell_type": "code",
      "source": [
        "df=pd.read_excel(\"/content/drive/Shareddrives/PUB_Meteorologia/Planilhas_limpas/INMET_horarios_automatica/dados_A009_H_2004-12-16_2023-06-12.xlsx\", engine='openpyxl', sheet_name=\"Plan1\")"
      ],
      "metadata": {
        "id": "U1juMlDHiRK8"
      },
      "execution_count": 186,
      "outputs": []
    },
    {
      "cell_type": "code",
      "source": [
        "df.head(10)"
      ],
      "metadata": {
        "id": "Fje7Mq-Qx-__"
      },
      "execution_count": null,
      "outputs": []
    },
    {
      "cell_type": "code",
      "source": [
        "df=df.rename(columns={ 'Data Medicao':'DATA'})"
      ],
      "metadata": {
        "id": "AJeBD0b6dy4r"
      },
      "execution_count": 188,
      "outputs": []
    },
    {
      "cell_type": "code",
      "source": [
        "df['ANO'] = df['DATA'].dt.year\n",
        "df['MES'] = df['DATA'].dt.month"
      ],
      "metadata": {
        "id": "_W_n7CbhxL9a"
      },
      "execution_count": 189,
      "outputs": []
    },
    {
      "cell_type": "code",
      "source": [
        "plt.figure(figsize=(15,5))\n",
        "plt.plot(df[\"DATA\"], df['T AR (°C)'], label='PREC', color='g', ls='-', lw='2');\n",
        "plt.legend(loc=1, fontsize=14)\n",
        "plt.ylabel('Precipitação (mm/dia)')\n",
        "plt.xlabel('Anos')\n",
        "plt.title('Precipitação (mm/dia) de 2007 a 2021')\n",
        "plt.axis(xmin=df.DATA[0], xmax=df.DATA[5489])\n",
        "plt.show()"
      ],
      "metadata": {
        "id": "TG_QA8yMUWWp"
      },
      "execution_count": null,
      "outputs": []
    },
    {
      "cell_type": "code",
      "source": [
        "df[[\"PREC (mm)\",\t\"P ATM (mB)\",\t\"QG (Kj/m²)\",\t\"T AR (°C)\"\t,\"UR (%)\",\t\"U2 (m/s)\"]].describe().T"
      ],
      "metadata": {
        "id": "Pevx1JupUppo"
      },
      "execution_count": null,
      "outputs": []
    },
    {
      "cell_type": "code",
      "source": [
        "df.loc[df.MES == 1,'MES']='Jan'\n",
        "df.loc[df.MES == 2,'MES']='Fev'\n",
        "df.loc[df.MES == 3,'MES']='Mar'\n",
        "df.loc[df.MES == 4,'MES']='Abr'\n",
        "df.loc[df.MES == 5,'MES']='Mai'\n",
        "df.loc[df.MES == 6,'MES']='Jun'\n",
        "df.loc[df.MES == 7,'MES']='Jul'\n",
        "df.loc[df.MES == 8,'MES']='Ago'\n",
        "df.loc[df.MES == 9,'MES']='Set'\n",
        "df.loc[df.MES == 10,'MES']='Out'\n",
        "df.loc[df.MES == 11,'MES']='Nov'\n",
        "df.loc[df.MES == 12,'MES']='Dez'\n"
      ],
      "metadata": {
        "id": "tlo00JZP0fwC"
      },
      "execution_count": 192,
      "outputs": []
    },
    {
      "cell_type": "code",
      "source": [
        "dados = df[[\"MES\",'Hora Medicao','PREC (mm)','P ATM (mB)','QG (Kj/m²)','T AR (°C)','UR (%)','U2 (m/s)']]\n",
        "grafico_variaveis = pd.melt(dados, id_vars=['MES'], value_vars=['U2 (m/s)','T AR (°C)'], var_name='Legenda')\n",
        "# style: whitegrid, darkgrid, white, dark, ticks\n",
        "sns.set(style='whitegrid', font_scale=1.5, rc={'font.size':25})\n",
        "t = sns.catplot(x='MES', y='value', data=grafico_variaveis, hue='Legenda', palette='pastel', kind='box',\n",
        "height=9, # Altura\n",
        "width=0.7, # Largura das caixas de boxplot\n",
        "aspect=1.5, # Tamanho do gráfico\n",
        "legend=True, # Adicionar legenda\n",
        "legend_out=True, # Legenda dentro ou fora da caixa\n",
        "saturation=10, # Intensidade das cores\n",
        "linewidth=1.4, # Espessura da linha\n",
        "ci=95, # Intervalo de confiança\n",
        "fliersize=4 # Espessura dos outliers\n",
        ");\n",
        "plt.grid(True);\n",
        "plt.grid(axis='x'); # Linhas horizontais e verticais\n",
        "plt.title('Precipitação X Temperatura Máxima', fontsize=25); # Título do gráfico\n",
        "t.set_axis_labels('Meses', 'Temperatura (ºC)', fontsize=25); # Títulos dos eixos x e y\n",
        "t.set(ylim=(0, 50)); # Limites do eixo y\n",
        "t.despine(right=False); # Linha à direita\n",
        "# t.savefig('grafico.png', dpi=50) # Salvar o gráfico em .png"
      ],
      "metadata": {
        "id": "s6_yYsosUtmb"
      },
      "execution_count": null,
      "outputs": []
    },
    {
      "cell_type": "code",
      "source": [
        "# A função “skew()” do Python mede o grau de\n",
        "# simetria da curva em relação à distribuição\n",
        "# normal (ou Gaussiana):\n",
        "# skew = 0, distribuição simétrica;\n",
        "# skew > 0, assimétrica positiva (à direita);\n",
        "# skew < 0, assimétrica negativa (à esquerda).\n"
      ],
      "metadata": {
        "id": "9nWBHq2FU7fH"
      },
      "execution_count": 194,
      "outputs": []
    },
    {
      "cell_type": "code",
      "source": [
        "print('Precipitação:', df['PREC (mm)'].skew())\n",
        "print('Pressão atmosférica:', df['P ATM (mB)'].skew())\n",
        "print('Radiação solar:', df['QG (Kj/m²)'].skew())\n",
        "print('Umidade relativa:', df['UR (%)'].skew())\n",
        "print('Temperatura média do ar:', df['T AR (°C)'].skew())\n",
        "print('Velocidade do vento a 2 metros:', df['U2 (m/s)'].skew())"
      ],
      "metadata": {
        "id": "2mtH-RhnUuV7"
      },
      "execution_count": null,
      "outputs": []
    },
    {
      "cell_type": "code",
      "source": [
        "# Observamos acima que a distribuição normal é encontrada em valores\n",
        "# de pressão atmosférica, radiação solar e umidade relativa\n",
        "# pois os valores de skew estão muito próximos de zero;"
      ],
      "metadata": {
        "id": "nrf-cwtqj4yf"
      },
      "execution_count": 196,
      "outputs": []
    },
    {
      "cell_type": "code",
      "source": [
        "# Para dados normais utilize o Z-score\n",
        "# para dados não normais utilize o IQR ou percentil"
      ],
      "metadata": {
        "id": "ljo_oXakU1Zp"
      },
      "execution_count": 197,
      "outputs": []
    },
    {
      "cell_type": "code",
      "source": [
        "# Plotar os gráficos:\n",
        "plt.figure(figsize=(24,8))\n",
        "# Histograma:\n",
        "plt.subplot(1,3,1)\n",
        "plt.hist(df['PREC (mm)'],bins=30)\n",
        "plt.title('Histograma')\n",
        "# Q-Q:\n",
        "plt.subplot(1,3,2)\n",
        "stats.probplot(df['PREC (mm)'],\n",
        "dist='norm',plot=plt)\n",
        "plt.ylabel('quantiles')\n",
        "# Boxplot:\n",
        "plt.subplot(1,3,3)\n",
        "sns.boxplot(y=df['PREC (mm)'])\n",
        "plt.title('Boxplot')\n",
        "plt.show()"
      ],
      "metadata": {
        "id": "j9RQiX14XHEn"
      },
      "execution_count": null,
      "outputs": []
    },
    {
      "cell_type": "code",
      "source": [
        "# Plotar os gráficos:\n",
        "plt.figure(figsize=(24,8))\n",
        "# Histograma:\n",
        "plt.subplot(1,3,1)\n",
        "plt.hist(df['P ATM (mB)'],bins=30)\n",
        "plt.title('Histograma')\n",
        "# Q-Q:\n",
        "plt.subplot(1,3,2)\n",
        "stats.probplot(df['P ATM (mB)'],\n",
        "dist='norm',plot=plt)\n",
        "plt.ylabel('quantiles')\n",
        "# Boxplot:\n",
        "plt.subplot(1,3,3)\n",
        "sns.boxplot(y=df['P ATM (mB)'])\n",
        "plt.title('Boxplot')\n",
        "plt.show()\n"
      ],
      "metadata": {
        "id": "B170poZaVRmu"
      },
      "execution_count": null,
      "outputs": []
    },
    {
      "cell_type": "code",
      "source": [
        "# Plotar os gráficos:\n",
        "plt.figure(figsize=(24,8))\n",
        "# Histograma:\n",
        "plt.subplot(1,3,1)\n",
        "plt.hist(df['T AR (°C)'],bins=30)\n",
        "plt.title('Histograma')\n",
        "# Q-Q:\n",
        "plt.subplot(1,3,2)\n",
        "stats.probplot(df['T AR (°C)'],\n",
        "dist='norm',plot=plt)\n",
        "plt.ylabel('quantiles')\n",
        "# Boxplot:\n",
        "plt.subplot(1,3,3)\n",
        "sns.boxplot(y=df['T AR (°C)'])\n",
        "plt.title('Boxplot')\n",
        "plt.show()"
      ],
      "metadata": {
        "id": "NpcveTLrX8Rv"
      },
      "execution_count": null,
      "outputs": []
    },
    {
      "cell_type": "code",
      "source": [
        "# Plotar os gráficos:\n",
        "plt.figure(figsize=(24,8))\n",
        "# Histograma:\n",
        "plt.subplot(1,3,1)\n",
        "plt.hist(df['QG (Kj/m²)'],bins=30)\n",
        "plt.title('Histograma')\n",
        "# Q-Q:\n",
        "plt.subplot(1,3,2)\n",
        "stats.probplot(df['QG (Kj/m²)'],\n",
        "dist='norm',plot=plt)\n",
        "plt.ylabel('quantiles')\n",
        "# Boxplot:\n",
        "plt.subplot(1,3,3)\n",
        "sns.boxplot(y=df['QG (Kj/m²)'])\n",
        "plt.title('Boxplot')\n",
        "plt.show()"
      ],
      "metadata": {
        "id": "DUAEgW1yXH33"
      },
      "execution_count": null,
      "outputs": []
    },
    {
      "cell_type": "code",
      "source": [
        "# Plotar os gráficos:\n",
        "plt.figure(figsize=(24,8))\n",
        "# Histograma:\n",
        "plt.subplot(1,3,1)\n",
        "plt.hist(df['UR (%)'],bins=30)\n",
        "plt.title('Histograma')\n",
        "# Q-Q:\n",
        "plt.subplot(1,3,2)\n",
        "stats.probplot(df['UR (%)'],\n",
        "dist='norm',plot=plt)\n",
        "plt.ylabel('quantiles')\n",
        "# Boxplot:\n",
        "plt.subplot(1,3,3)\n",
        "sns.boxplot(y=df['UR (%)'])\n",
        "plt.title('Boxplot')\n",
        "plt.show()"
      ],
      "metadata": {
        "id": "XptCvIbUXIOP"
      },
      "execution_count": null,
      "outputs": []
    },
    {
      "cell_type": "code",
      "source": [
        "# Plotar os gráficos:\n",
        "plt.figure(figsize=(24,8))\n",
        "# Histograma:\n",
        "plt.subplot(1,3,1)\n",
        "plt.hist(df['U2 (m/s)'],bins=30)\n",
        "plt.title('Histograma')\n",
        "# Q-Q:\n",
        "plt.subplot(1,3,2)\n",
        "stats.probplot(df['U2 (m/s)'],\n",
        "dist='norm',plot=plt)\n",
        "plt.ylabel('quantiles')\n",
        "# Boxplot:\n",
        "plt.subplot(1,3,3)\n",
        "sns.boxplot(y=df['U2 (m/s)'])\n",
        "plt.title('Boxplot')\n",
        "plt.show()"
      ],
      "metadata": {
        "id": "_QZtLrEBXIf3"
      },
      "execution_count": null,
      "outputs": []
    },
    {
      "cell_type": "code",
      "source": [
        "def CalculoBoxPlot(Coluna):\n",
        "  LimSup = df[Coluna].mean() + (3*df[Coluna].std()) #Limite superior\n",
        "  LimInf = df[Coluna].mean() - (3*df[Coluna].std()) #Limite inferior\n",
        "  # Calcular a quantidade de valores que estão abaixo ou\n",
        "  # acima do inferior e superior (valores extremos):\n",
        "  df_aux = df[Coluna]\n",
        "  LS = df_aux > LimSup\n",
        "  LI = df_aux < LimInf\n",
        "  # Contar a quantidade de valores extremos:\n",
        "  sum_LS = df_aux[LS].count()\n",
        "  sum_LI = df_aux[LI].count()\n",
        "  # Calcular o percentual:\n",
        "  per_sum_LS = (sum_LS*100)/5479\n",
        "  per_sum_LI = (sum_LI*100)/5479\n",
        "  print(\"Resumo dos 5 números para\", Coluna,\":\")\n",
        "  print('LimSup:', round(LimSup,2))\n",
        "  print('LimInf:', round(LimInf,2))\n",
        "  print('Quantidade acima de LS:',sum_LS)\n",
        "  print('Quantidade abaixo de LI:',sum_LI)\n",
        "  print('LS(%):', round(per_sum_LS,2))\n",
        "  print('LI(%):', round(per_sum_LI,2))"
      ],
      "metadata": {
        "id": "8mloGkHsjDar"
      },
      "execution_count": 204,
      "outputs": []
    },
    {
      "cell_type": "code",
      "source": [
        "CalculoBoxPlot(\"PREC (mm)\")"
      ],
      "metadata": {
        "id": "A_O2g1mLfxti"
      },
      "execution_count": null,
      "outputs": []
    },
    {
      "cell_type": "code",
      "source": [
        "CalculoBoxPlot('PREC (mm)')"
      ],
      "metadata": {
        "id": "gdALQsj1mtkz"
      },
      "execution_count": null,
      "outputs": []
    },
    {
      "cell_type": "code",
      "source": [
        "CalculoBoxPlot('P ATM (mB)')"
      ],
      "metadata": {
        "id": "8OWsOE-moORp"
      },
      "execution_count": null,
      "outputs": []
    },
    {
      "cell_type": "code",
      "source": [
        "CalculoBoxPlot('QG (Kj/m²)')"
      ],
      "metadata": {
        "id": "iDqnww7roP8q"
      },
      "execution_count": null,
      "outputs": []
    },
    {
      "cell_type": "code",
      "source": [
        "CalculoBoxPlot('T AR (°C)')"
      ],
      "metadata": {
        "id": "kzQqGjvFoQZt"
      },
      "execution_count": null,
      "outputs": []
    },
    {
      "cell_type": "code",
      "source": [
        "CalculoBoxPlot('UR (%)')"
      ],
      "metadata": {
        "id": "DL2XJKyGoQrc"
      },
      "execution_count": null,
      "outputs": []
    },
    {
      "cell_type": "code",
      "source": [
        "CalculoBoxPlot('U2 (m/s)')"
      ],
      "metadata": {
        "id": "tmaz-hVzof6b"
      },
      "execution_count": null,
      "outputs": []
    },
    {
      "cell_type": "code",
      "source": [
        "df.head(10)"
      ],
      "metadata": {
        "id": "nL0y4H_OlK6-"
      },
      "execution_count": null,
      "outputs": []
    },
    {
      "cell_type": "code",
      "source": [
        "# Calcular os quartis:\n",
        "Q3 = df[\"PREC (mm)\"].quantile(0.75)\n",
        "Q1 = df[\"PREC (mm)\"].quantile(0.25)\n",
        "# Calcular o IQR:\n",
        "IQR = Q3 - Q1\n",
        "# Calcular o LI e LS:\n",
        "LimSup = Q3 + (IQR * 1.5)\n",
        "LimInf = Q1 - (IQR * 1.5)"
      ],
      "metadata": {
        "id": "4DJeiw2hV2q5"
      },
      "execution_count": 213,
      "outputs": []
    },
    {
      "cell_type": "code",
      "source": [
        "print(\"Q1 =\", Q1,\"Q3 = \", Q3, \"IQR =\", IQR,\"LimSup =\", LimSup,\"LimInf =\", LimInf)\n"
      ],
      "metadata": {
        "colab": {
          "base_uri": "https://localhost:8080/"
        },
        "id": "ObXL_y26WU7R",
        "outputId": "54cc51d6-fea6-4d2f-c464-dd02ce26b0c6"
      },
      "execution_count": 214,
      "outputs": [
        {
          "output_type": "stream",
          "name": "stdout",
          "text": [
            "Q1 = 0.0 Q3 =  0.0 IQR = 0.0 LimSup = 0.0 LimInf = 0.0\n"
          ]
        }
      ]
    },
    {
      "cell_type": "code",
      "source": [
        "# Calcular os quartis:\n",
        "Q3 = df[\"P ATM (mB)\"].quantile(0.75)\n",
        "Q1 = df[\"P ATM (mB)\"].quantile(0.25)\n",
        "# Calcular o IQR:\n",
        "IQR = Q3 - Q1\n",
        "# Calcular o LI e LS:\n",
        "LimSup = Q3 + (IQR * 1.5)\n",
        "LimInf = Q1 - (IQR * 1.5)"
      ],
      "metadata": {
        "id": "MgOebvblVjDJ"
      },
      "execution_count": 215,
      "outputs": []
    },
    {
      "cell_type": "code",
      "source": [
        "print(\"Q1 =\", Q1,\"Q3 = \", Q3, \"IQR =\", IQR,\"LimSup =\", LimSup,\"LimInf =\", LimInf)"
      ],
      "metadata": {
        "id": "D0zdg0SgpT6x"
      },
      "execution_count": null,
      "outputs": []
    },
    {
      "cell_type": "code",
      "source": [
        "# Calcular os quartis:\n",
        "Q3 = df[\"QG (Kj/m²)\"].quantile(0.75)\n",
        "Q1 = df[\"QG (Kj/m²)\"].quantile(0.25)\n",
        "# Calcular o IQR:\n",
        "IQR = Q3 - Q1\n",
        "# Calcular o LI e LS:\n",
        "LimSup = Q3 + (IQR * 1.5)\n",
        "LimInf = Q1 - (IQR * 1.5)"
      ],
      "metadata": {
        "id": "RsSquWfUV3W8"
      },
      "execution_count": 217,
      "outputs": []
    },
    {
      "cell_type": "code",
      "source": [
        "print(\"Q1 =\", Q1,\"Q3 = \", Q3, \"IQR =\", IQR,\"LimSup =\", LimSup,\"LimInf =\", LimInf)\n"
      ],
      "metadata": {
        "id": "stavrbnkWV8I",
        "colab": {
          "base_uri": "https://localhost:8080/"
        },
        "outputId": "42e8523a-cdd7-4eaa-aab0-3db3e066d727"
      },
      "execution_count": 218,
      "outputs": [
        {
          "output_type": "stream",
          "name": "stdout",
          "text": [
            "Q1 = 290.81350000000003 Q3 =  2319.64975 IQR = 2028.83625 LimSup = 5362.904125 LimInf = -2752.440875\n"
          ]
        }
      ]
    },
    {
      "cell_type": "code",
      "source": [
        "# Calcular os quartis:\n",
        "Q3 = df[\"P ATM (mB)\"].quantile(0.75)\n",
        "Q1 = df[\"P ATM (mB)\"].quantile(0.25)\n",
        "# Calcular o IQR:\n",
        "IQR = Q3 - Q1\n",
        "# Calcular o LI e LS:\n",
        "LimSup = Q3 + (IQR * 1.5)\n",
        "LimInf = Q1 - (IQR * 1.5)"
      ],
      "metadata": {
        "id": "vpIeAsEbV3on"
      },
      "execution_count": 219,
      "outputs": []
    },
    {
      "cell_type": "code",
      "source": [
        "print(\"Q1 =\", Q1,\"Q3 = \", Q3, \"IQR =\", IQR,\"LimSup =\", LimSup,\"LimInf =\", LimInf)\n"
      ],
      "metadata": {
        "id": "9hrwdLQ4WWUt",
        "colab": {
          "base_uri": "https://localhost:8080/"
        },
        "outputId": "b6f86037-d90e-40fa-80d0-88df050baf30"
      },
      "execution_count": 220,
      "outputs": [
        {
          "output_type": "stream",
          "name": "stdout",
          "text": [
            "Q1 = 977.1 Q3 =  980.6 IQR = 3.5 LimSup = 985.85 LimInf = 971.85\n"
          ]
        }
      ]
    },
    {
      "cell_type": "code",
      "source": [
        "# Calcular os quartis:\n",
        "Q3 = df[\"P ATM (mB)\"].quantile(0.75)\n",
        "Q1 = df[\"P ATM (mB)\"].quantile(0.25)\n",
        "# Calcular o IQR:\n",
        "IQR = Q3 - Q1\n",
        "# Calcular o LI e LS:\n",
        "LimSup = Q3 + (IQR * 1.5)\n",
        "LimInf = Q1 - (IQR * 1.5)"
      ],
      "metadata": {
        "id": "hToYchkCV4Hk"
      },
      "execution_count": 221,
      "outputs": []
    },
    {
      "cell_type": "code",
      "source": [
        "print(\"Q1 =\", Q1,\"Q3 = \", Q3, \"IQR =\", IQR,\"LimSup =\", LimSup,\"LimInf =\", LimInf)\n"
      ],
      "metadata": {
        "id": "cIiHybxdWVKl",
        "colab": {
          "base_uri": "https://localhost:8080/"
        },
        "outputId": "a703dfdb-a641-4f21-fe96-e21f9401bbe3"
      },
      "execution_count": 222,
      "outputs": [
        {
          "output_type": "stream",
          "name": "stdout",
          "text": [
            "Q1 = 977.1 Q3 =  980.6 IQR = 3.5 LimSup = 985.85 LimInf = 971.85\n"
          ]
        }
      ]
    },
    {
      "cell_type": "code",
      "source": [
        "# Calcular os quartis:\n",
        "Q3 = df[\"P ATM (mB)\"].quantile(0.75)\n",
        "Q1 = df[\"P ATM (mB)\"].quantile(0.25)\n",
        "# Calcular o IQR:\n",
        "IQR = Q3 - Q1\n",
        "# Calcular o LI e LS:\n",
        "LimSup = Q3 + (IQR * 1.5)\n",
        "LimInf = Q1 - (IQR * 1.5)"
      ],
      "metadata": {
        "id": "6b8i9hoDV4pl"
      },
      "execution_count": 223,
      "outputs": []
    },
    {
      "cell_type": "code",
      "source": [
        "print(\"Q1 =\", Q1,\"Q3 = \", Q3, \"IQR =\", IQR,\"LimSup =\", LimSup,\"LimInf =\", LimInf)\n"
      ],
      "metadata": {
        "id": "-cXlyTQbWfFf",
        "colab": {
          "base_uri": "https://localhost:8080/"
        },
        "outputId": "e41eac95-95e8-4655-dd89-78a1316101f8"
      },
      "execution_count": 224,
      "outputs": [
        {
          "output_type": "stream",
          "name": "stdout",
          "text": [
            "Q1 = 977.1 Q3 =  980.6 IQR = 3.5 LimSup = 985.85 LimInf = 971.85\n"
          ]
        }
      ]
    },
    {
      "cell_type": "code",
      "source": [
        "# Coeficiente de assimetria de Pearson:\n",
        "# As=3(média-mediana)/desvio padrão\n",
        "# Próximo de zero ela é simétrica"
      ],
      "metadata": {
        "id": "yj81oxZeVjxQ"
      },
      "execution_count": 225,
      "outputs": []
    },
    {
      "cell_type": "code",
      "source": [
        "# As=3(média-mediana)/desvio padrão"
      ],
      "metadata": {
        "id": "ZZ-zQ49FW5rq"
      },
      "execution_count": 226,
      "outputs": []
    },
    {
      "cell_type": "code",
      "source": [
        "def Calculadora_Assimetria (Coluna):\n",
        "  AS=3*(df[Coluna].mean()-df[Coluna].median())/(df[Coluna].std())\n",
        "  print(\"Coeficiente de assimetria para:\", Coluna, AS)"
      ],
      "metadata": {
        "id": "aa18chtqqtsa"
      },
      "execution_count": 227,
      "outputs": []
    },
    {
      "cell_type": "code",
      "source": [
        "Calculadora_Assimetria(\"PREC (mm)\")\n",
        "Calculadora_Assimetria(\"P ATM (mB)\")\n",
        "Calculadora_Assimetria(\"QG (Kj/m²)\")\n",
        "Calculadora_Assimetria(\"T AR (°C)\")\n",
        "Calculadora_Assimetria(\"UR (%)\")\n",
        "Calculadora_Assimetria(\"U2 (m/s)\")"
      ],
      "metadata": {
        "id": "uGkO4shHv8eJ"
      },
      "execution_count": null,
      "outputs": []
    },
    {
      "cell_type": "code",
      "source": [
        "assimetria_chuva=3*(df[\"PREC (mm)\"].mean()-df[\"PREC (mm)\"].median())/(df[\"PREC (mm)\"].std())"
      ],
      "metadata": {
        "id": "cJe7GnOy6UtK"
      },
      "execution_count": 323,
      "outputs": []
    },
    {
      "cell_type": "code",
      "source": [
        "assimetria_pressao=3*(df[\"P ATM (mB)\"].mean()-df[\"P ATM (mB)\"].median())/(df[\"P ATM (mB)\"].std())"
      ],
      "metadata": {
        "id": "3nfpEIAUm77p"
      },
      "execution_count": 324,
      "outputs": []
    },
    {
      "cell_type": "code",
      "source": [
        "assimetria_radiacao=3*(df[\"QG (Kj/m²)\"].mean()-df[\"QG (Kj/m²)\"].median())/(df[\"QG (Kj/m²)\"].std())"
      ],
      "metadata": {
        "id": "isDPjJusm8PF"
      },
      "execution_count": 325,
      "outputs": []
    },
    {
      "cell_type": "code",
      "source": [
        "assimetria_temperatura=3*(df[\"T AR (°C)\"].mean()-df[\"T AR (°C)\"].median())/(df[\"T AR (°C)\"].std())"
      ],
      "metadata": {
        "id": "Xr7m3mnom8FQ"
      },
      "execution_count": 326,
      "outputs": []
    },
    {
      "cell_type": "code",
      "source": [
        "assimetria_umidade=3*(df[\"UR (%)\"].mean()-df[\"UR (%)\"].median())/(df[\"UR (%)\"].std())"
      ],
      "metadata": {
        "id": "OSC69u6bm8et"
      },
      "execution_count": 327,
      "outputs": []
    },
    {
      "cell_type": "code",
      "source": [
        "assimetria_vento=3*(df[\"U2 (m/s)\"].mean()-df[\"U2 (m/s)\"].median())/(df[\"U2 (m/s)\"].std())"
      ],
      "metadata": {
        "id": "3NvTYiMTm8oJ"
      },
      "execution_count": 328,
      "outputs": []
    },
    {
      "cell_type": "code",
      "source": [
        "df[\"U2 (m/s)\"].std()"
      ],
      "metadata": {
        "id": "KG_riRuM8k4u",
        "colab": {
          "base_uri": "https://localhost:8080/"
        },
        "outputId": "ba9f6dd6-77a3-4355-f5e5-2ff87dcb740d"
      },
      "execution_count": 235,
      "outputs": [
        {
          "output_type": "execute_result",
          "data": {
            "text/plain": [
              "1.5899909292626229"
            ]
          },
          "metadata": {},
          "execution_count": 235
        }
      ]
    },
    {
      "cell_type": "code",
      "source": [
        "print(\"Valores do Coeficiente de Pearson\")\n",
        "print(\"Precipitação =\",assimetria_chuva,\"Pressão atmosférica =\",assimetria_pressao)\n",
        "print(\"Radiação solar =\",assimetria_radiacao,\"Temperatura do ar =\",assimetria_temperatura)\n",
        "print(\"Umidade Relativa =\",assimetria_umidade,\"Velocidade do vento =\",assimetria_vento)"
      ],
      "metadata": {
        "id": "P7l2IVA-8eFh",
        "colab": {
          "base_uri": "https://localhost:8080/"
        },
        "outputId": "15bf0efb-3991-420e-a2d4-8c59bb449d44"
      },
      "execution_count": 236,
      "outputs": [
        {
          "output_type": "stream",
          "name": "stdout",
          "text": [
            "Valores do Coeficiente de Pearson\n",
            "Precipitação = 0.3887381195678971 Pressão atmosférica = -0.13171586521477785\n",
            "Radiação solar = 0.30383498407144177 Temperatura do ar = -0.09878687980340031\n",
            "Umidade Relativa = -0.24809202048145892 Velocidade do vento = 0.6019685813043232\n"
          ]
        }
      ]
    },
    {
      "cell_type": "code",
      "source": [
        "# Estatística uni ou multivariada:\n",
        "# Utilizando z_score\n",
        "# Método que avalia quantos desvios padrão o valor observado está situado além da média;\n",
        "# 3 desvios é o limite para outlier e pode ser negativo ou positivo;"
      ],
      "metadata": {
        "id": "axQBDaReZrBJ"
      },
      "execution_count": 237,
      "outputs": []
    },
    {
      "cell_type": "code",
      "source": [
        "z_scores=(df[\"PREC (mm)\"]-np.mean(df[\"PREC (mm)\"]))/np.std(df[\"PREC (mm)\"])"
      ],
      "metadata": {
        "id": "vm-D30FCQOod"
      },
      "execution_count": 238,
      "outputs": []
    },
    {
      "cell_type": "code",
      "source": [
        "z_scores2=(df[\"P ATM (mB)\"]-np.mean(df[\"P ATM (mB)\"]))/np.std(df[\"P ATM (mB)\"])"
      ],
      "metadata": {
        "id": "jwg5HZmYd9Vg"
      },
      "execution_count": 239,
      "outputs": []
    },
    {
      "cell_type": "code",
      "source": [
        "z_scores3=(df[\"QG (Kj/m²)\"]-np.mean(df[\"QG (Kj/m²)\"]))/np.std(df[\"QG (Kj/m²)\"])"
      ],
      "metadata": {
        "id": "HSh3mSN7d9ms"
      },
      "execution_count": 240,
      "outputs": []
    },
    {
      "cell_type": "code",
      "source": [
        "z_scores4=(df[\"T AR (°C)\"]-np.mean(df[\"T AR (°C)\"]))/np.std(df[\"T AR (°C)\"])"
      ],
      "metadata": {
        "id": "gJ2rs5mKd9z_"
      },
      "execution_count": 241,
      "outputs": []
    },
    {
      "cell_type": "code",
      "source": [
        "z_scores5=(df[\"UR (%)\"]-np.mean(df[\"UR (%)\"]))/np.std(df[\"UR (%)\"])"
      ],
      "metadata": {
        "id": "MilM1lBvd-CC"
      },
      "execution_count": 242,
      "outputs": []
    },
    {
      "cell_type": "code",
      "source": [
        "z_scores6=(df[\"U2 (m/s)\"]-np.mean(df[\"U2 (m/s)\"]))/np.std(df[\"U2 (m/s)\"])"
      ],
      "metadata": {
        "id": "5TiHJJIJeP7p"
      },
      "execution_count": 243,
      "outputs": []
    },
    {
      "cell_type": "code",
      "source": [
        "plt.plot(z_scores)\n",
        "plt.axis(ymin=-4,ymax=4)\n",
        "plt.title(\"PREC (mm)\")"
      ],
      "metadata": {
        "id": "qficyDwuRAzE"
      },
      "execution_count": null,
      "outputs": []
    },
    {
      "cell_type": "code",
      "source": [
        "plt.plot(z_scores2)\n",
        "plt.axis(ymin=-4,ymax=4)\n",
        "plt.title(\"P ATM (mB)\")"
      ],
      "metadata": {
        "id": "HMzCLSoWfFxk"
      },
      "execution_count": null,
      "outputs": []
    },
    {
      "cell_type": "code",
      "source": [
        "plt.plot(z_scores3)\n",
        "plt.axis(ymin=-4,ymax=4)\n",
        "plt.title(\"QG (Kj/m²)\")"
      ],
      "metadata": {
        "id": "XtXMZqVQfMDY"
      },
      "execution_count": null,
      "outputs": []
    },
    {
      "cell_type": "code",
      "source": [
        "plt.plot(z_scores4)\n",
        "plt.axis(ymin=-4,ymax=4)\n",
        "plt.title(\"P ATM (mB)\")"
      ],
      "metadata": {
        "id": "GCGlOqmCfNuz"
      },
      "execution_count": null,
      "outputs": []
    },
    {
      "cell_type": "code",
      "source": [
        "plt.plot(z_scores)\n",
        "plt.axis(ymin=-4,ymax=4)\n",
        "plt.title(\"UR (%)\")"
      ],
      "metadata": {
        "id": "BJN6zgWrfOSK"
      },
      "execution_count": null,
      "outputs": []
    },
    {
      "cell_type": "code",
      "source": [
        "plt.plot(z_scores6)\n",
        "plt.axis(ymin=-4,ymax=4)\n",
        "plt.axis(xmin=0,xmax=30)\n",
        "plt.title(\"U2 (m/s)\")\n",
        "plt.xlabel(\"horas\")"
      ],
      "metadata": {
        "id": "ljbaQoVXfO1j",
        "colab": {
          "base_uri": "https://localhost:8080/",
          "height": 516
        },
        "outputId": "a403ef25-4ff2-41a4-95d6-7094b1b34c73"
      },
      "execution_count": 330,
      "outputs": [
        {
          "output_type": "execute_result",
          "data": {
            "text/plain": [
              "Text(0.5, 0, 'horas')"
            ]
          },
          "metadata": {},
          "execution_count": 330
        },
        {
          "output_type": "display_data",
          "data": {
            "text/plain": [
              "<Figure size 640x480 with 1 Axes>"
            ],
            "image/png": "[encoded data removed]"
          },
          "metadata": {}
        }
      ]
    }
  ]
}