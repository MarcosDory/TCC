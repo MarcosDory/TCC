{
  "cells": [
    {
      "cell_type": "code",
      "execution_count": 3,
      "metadata": {
        "id": "mYapn6KwByLc"
      },
      "outputs": [],
      "source": [
        "import pandas as pd\n",
        "import openpyxl\n",
        "import matplotlib.pyplot as plt\n",
        "import numpy as np\n",
        "import seaborn as sns\n",
        "import os"
      ]
    },
    {
      "cell_type": "code",
      "execution_count": 12,
      "metadata": {
        "id": "I6Cg9dkgBz8q"
      },
      "outputs": [],
      "source": [
        "# Código para salvar o diretório em uma variável:\n",
        "path = r'/content/drive/Shareddrives/PUB_Meteorologia/Dados_diarios_com_radiacao'\n",
        "\n",
        "# Salvando o nome apenas das planilhas em uma lista:\n",
        "files=os.listdir(path)\n",
        "\n",
        "# Juntando o caminho do diretório do drive com o nome de cada planilha, completando assim o diretório\n",
        "# inteiro para inserir no \"pd.read()\":\n",
        "# Uma lista com o caminho dos arquivos fica completamente pronta:\n",
        "files_xlsx = [path + \"/\"+ f for f in files if f[-3:] == 'csv']"
      ]
    },
    {
      "cell_type": "code",
      "source": [
        "files_xlsx"
      ],
      "metadata": {
        "id": "osFwpvhBRTlV"
      },
      "execution_count": null,
      "outputs": []
    },
    {
      "cell_type": "code",
      "execution_count": null,
      "metadata": {
        "id": "40dT_6thCFGF"
      },
      "outputs": [],
      "source": [
        "# O comando while abrirá as 15 planilhas salvas na váriável \"files_xlsx\":\n",
        "\n",
        "contador=0\n",
        "while contador <  15:\n",
        "\n",
        "\n",
        "# Abrindo o csv, removendo valores null, e removendo uma coluna extra que promove erro no comando  \"dropna()\":\n",
        "  print(f\"{contador+1}° planilha  :\" )\n",
        "  print()\n",
        "  print(\"Valores de skew:\")\n",
        "  print()\n",
        "  df=pd.read_csv(files_xlsx[contador], skiprows = range(0, 10),sep=\";\",decimal = ',', dtype = {\"UMIDADE RELATIVA DO AR, MEDIA DIARIA (AUT)(%)\":np.float64,'PRECIPITACAO TOTAL, HORARIO(mm)':np.float64,'PRESSAO ATMOSFERICA AO NIVEL DA ESTACAO, HORARIA(mB)': np.float64,\"TEMPERATURA MEDIA, DIARIA (AUT)(°C)\": np.float64,\"VENTO, RAJADA MAXIMA DIARIA (AUT)(m/s)\": np.float64})\n",
        "  #df=df.drop(\"Unnamed: 8\", axis=1)\n",
        "  df=df.dropna()\n",
        "\n",
        "# Printando os valores de skew de cada variável:\n",
        "  print(df[['PRECIPITACAO TOTAL, DIARIO (AUT)(mm)','PRESSAO ATMOSFERICA MEDIA DIARIA (AUT)(mB)','TEMPERATURA MEDIA, DIARIA (AUT)(°C)',\"UMIDADE RELATIVA DO AR, MEDIA DIARIA (AUT)(%)\",\"VENTO, RAJADA MAXIMA DIARIA (AUT)(m/s)\"]].describe().T)\n",
        "  print('Precipitação:', df[\"PRECIPITACAO TOTAL, DIARIO (AUT)(mm)\"].skew())\n",
        "  print('Pressão Atmosférica:', df[\"PRESSAO ATMOSFERICA MEDIA DIARIA (AUT)(mB)\"].skew())\n",
        "  print('Temperatura máxima:', df[\"TEMPERATURA MEDIA, DIARIA (AUT)(°C)\"].skew())\n",
        "  print('Umidade relativa:', df[\"UMIDADE RELATIVA DO AR, MEDIA DIARIA (AUT)(%)\"].skew())\n",
        "  print('Veloc. do vento:', df[\"VENTO, RAJADA MAXIMA DIARIA (AUT)(m/s)\"].skew())\n",
        "\n",
        "# o Loop que fiz remove os valores zerados de chuva, eles levam a media e os desvios\n",
        "# para zero, impossibilitando a remoção e avaliação de outliers;\n",
        "# a lista criada chama-se \"dados\", ela contém apenas valores de chuva maiores que zero\n",
        "# calculei o z-score a partir dela.\n",
        "\n",
        "  dado=[]\n",
        "\n",
        "  for i in df['PRECIPITACAO TOTAL, DIARIO (AUT)(mm)']:\n",
        "    if i == 0:\n",
        "      []\n",
        "    else:\n",
        "      dado.append(i)\n",
        "\n",
        "  Q1 = np.quantile(dado,.25)\n",
        "  Q3 = np.quantile(dado,.75)\n",
        "  IIQ = Q3 - Q1\n",
        "  Lim_inf_iqr_chuva = Q1 - 1.5*IIQ\n",
        "  Lim_sup_iqr_chuva = Q3 + 1.5*IIQ\n",
        "  out_low_iqr_chuva= (df['PRECIPITACAO TOTAL, DIARIO (AUT)(mm)'] > Lim_sup_iqr_chuva)\n",
        "  out_up_iqr_chuva= (df['PRECIPITACAO TOTAL, DIARIO (AUT)(mm)'] < Lim_inf_iqr_chuva)\n",
        "\n",
        "  Q1 = np.quantile(df[\"TEMPERATURA MEDIA, DIARIA (AUT)(°C)\"],.25)\n",
        "  Q3 = np.quantile(df[\"TEMPERATURA MEDIA, DIARIA (AUT)(°C)\"],.75)\n",
        "  IIQ = Q3 - Q1\n",
        "  Lim_inf_iqr_temperatura = Q1 - 1.5*IIQ\n",
        "  Lim_sup_iqr_temperatura = Q3 + 1.5*IIQ\n",
        "  out_low_iqr_temperatura= (df[\"TEMPERATURA MEDIA, DIARIA (AUT)(°C)\"] > Lim_sup_iqr_temperatura)\n",
        "  out_up_iqr_temperatura= (df[\"TEMPERATURA MEDIA, DIARIA (AUT)(°C)\"] < Lim_inf_iqr_temperatura)\n",
        "\n",
        "  Q1 = np.quantile(df[\"PRESSAO ATMOSFERICA MEDIA DIARIA (AUT)(mB)\"],.25)\n",
        "  Q3 = np.quantile(df[\"PRESSAO ATMOSFERICA MEDIA DIARIA (AUT)(mB)\"],.75)\n",
        "  IIQ = Q3 - Q1\n",
        "  Lim_inf_iqr_pressao = Q1 - 1.5*IIQ\n",
        "  Lim_sup_iqr_pressao = Q3 + 1.5*IIQ\n",
        "  out_low_iqr_pressao= (df[\"PRESSAO ATMOSFERICA MEDIA DIARIA (AUT)(mB)\"] > Lim_sup_iqr_pressao)\n",
        "  out_up_iqr_pressao= (df[\"PRESSAO ATMOSFERICA MEDIA DIARIA (AUT)(mB)\"] < Lim_inf_iqr_pressao)\n",
        "\n",
        "  Q1 = np.quantile(df[\"UMIDADE RELATIVA DO AR, MEDIA DIARIA (AUT)(%)\"],.25)\n",
        "  Q3 = np.quantile(df[\"UMIDADE RELATIVA DO AR, MEDIA DIARIA (AUT)(%)\"],.75)\n",
        "  IIQ = Q3 - Q1\n",
        "  Lim_inf_iqr_ur = Q1 - 1.5*IIQ\n",
        "  Lim_sup_iqr_ur = Q3 + 1.5*IIQ\n",
        "  out_low_iqr_ur= (df[\"UMIDADE RELATIVA DO AR, MEDIA DIARIA (AUT)(%)\"] > Lim_sup_iqr_ur)\n",
        "  out_up_iqr_ur= (df[\"UMIDADE RELATIVA DO AR, MEDIA DIARIA (AUT)(%)\"] < Lim_inf_iqr_ur)\n",
        "\n",
        "  Q1 = np.quantile(df[\"VENTO, RAJADA MAXIMA DIARIA (AUT)(m/s)\"],.25)\n",
        "  Q3 = np.quantile(df[\"VENTO, RAJADA MAXIMA DIARIA (AUT)(m/s)\"],.75)\n",
        "  IIQ = Q3 - Q1\n",
        "  Lim_inf_iqr_vento = Q1 - 1.5*IIQ\n",
        "  Lim_sup_iqr_vento = Q3 + 1.5*IIQ\n",
        "  out_low_iqr_vento= (df[\"VENTO, RAJADA MAXIMA DIARIA (AUT)(m/s)\"] > Lim_sup_iqr_vento)\n",
        "  out_up_iqr_vento= (df[\"VENTO, RAJADA MAXIMA DIARIA (AUT)(m/s)\"] < Lim_inf_iqr_vento)\n",
        "\n",
        "# Criando novo dataframe sem os valores outliers segundo o IQR.\n",
        "# A fórmula abaixo abaixo irá fazer remoção da não intersecção de valores do dataframe e outliers :\n",
        "# Usando lógica do diagrama de Venn:\n",
        "  df=df[~(out_low_iqr_chuva | out_up_iqr_chuva)]\n",
        "  df=df[~(out_low_iqr_temperatura | out_up_iqr_temperatura)]\n",
        "  df=df[~(out_low_iqr_pressao | out_up_iqr_pressao)]\n",
        "  df=df[~(out_low_iqr_ur | out_up_iqr_ur)]\n",
        "  df=df[~(out_low_iqr_vento | out_up_iqr_vento)]\n",
        "\n",
        "  print('Tabela com descrição estatistica da planilha tratada com iqr')\n",
        "  print(df[['PRECIPITACAO TOTAL, DIARIO (AUT)(mm)','PRESSAO ATMOSFERICA MEDIA DIARIA (AUT)(mB)','TEMPERATURA MEDIA, DIARIA (AUT)(°C)',\"UMIDADE RELATIVA DO AR, MEDIA DIARIA (AUT)(%)\",\"VENTO, RAJADA MAXIMA DIARIA (AUT)(m/s)\"]].describe().T)\n",
        "\n",
        "  print(\"Valores de limite superior e inferior para chuva via IQR: \",Lim_sup_iqr_chuva, Lim_inf_iqr_chuva )\n",
        "  print(\"Valores de limite superior e inferior para pressao via IQR: \",Lim_sup_iqr_pressao, Lim_inf_iqr_pressao )\n",
        "  print(\"Valores de limite superior e inferior para temperatura via IQR: \",Lim_sup_iqr_temperatura, Lim_inf_iqr_temperatura )\n",
        "  print(\"Valores de limite superior e inferior para umidade via IQR: \",Lim_sup_iqr_ur, Lim_inf_iqr_ur )\n",
        "  print(\"Valores de limite superior e inferior para vento via IQR: \",Lim_sup_iqr_vento, Lim_inf_iqr_vento )\n",
        "\n",
        "  df.to_csv(\"modificado_\" + files[contador] , index=\"False\")\n",
        "\n",
        "  contador=contador+1\n"
      ]
    },
    {
      "cell_type": "code",
      "execution_count": null,
      "metadata": {
        "id": "tLLapuEYPZWD"
      },
      "outputs": [],
      "source": [
        "import re"
      ]
    },
    {
      "cell_type": "code",
      "execution_count": null,
      "metadata": {
        "id": "-zbuMW8aNQcz"
      },
      "outputs": [],
      "source": [
        "contador=5\n",
        "while contador <  6:\n",
        "\n",
        "  print(f\"{contador+1}° planilha  :\" )\n",
        "  print(df.describe().T)\n",
        "  df=pd.read_excel(files_xlsx[contador])\n",
        "\n",
        "  df=df.dropna()\n",
        "  contador=contador+1\n",
        "  k1=files_xlsx[contador]\n",
        "  k2=re.findall(r\"A\\d{3}\",k1)\n",
        "  print(k2)"
      ]
    },
    {
      "cell_type": "code",
      "execution_count": null,
      "metadata": {
        "id": "POvC-wyLNv-y"
      },
      "outputs": [],
      "source": [
        "df.describe().T"
      ]
    }
  ],
  "metadata": {
    "colab": {
      "provenance": []
    },
    "kernelspec": {
      "display_name": "Python 3",
      "name": "python3"
    },
    "language_info": {
      "name": "python"
    }
  },
  "nbformat": 4,
  "nbformat_minor": 0
}